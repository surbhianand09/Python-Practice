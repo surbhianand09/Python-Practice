{
 "cells": [
  {
   "cell_type": "code",
   "execution_count": 1,
   "id": "0afcd87f",
   "metadata": {},
   "outputs": [],
   "source": [
    "# Python is a general purpose programming language.\n",
    "# Open source\n",
    "# Easy to build packages\n",
    "# Python Script: List of python commands, executed sequentially, and saved as a file with .py extension."
   ]
  },
  {
   "cell_type": "code",
   "execution_count": 2,
   "id": "9d65db36",
   "metadata": {},
   "outputs": [],
   "source": [
    "# You can perform mathematical computations (+, -, *, /, **, %)"
   ]
  },
  {
   "cell_type": "code",
   "execution_count": 3,
   "id": "9184e9e0",
   "metadata": {},
   "outputs": [
    {
     "name": "stdout",
     "output_type": "stream",
     "text": [
      "16\n"
     ]
    }
   ],
   "source": [
    "print(2**4) #Exponent"
   ]
  },
  {
   "cell_type": "code",
   "execution_count": 4,
   "id": "0dc82240",
   "metadata": {},
   "outputs": [
    {
     "name": "stdout",
     "output_type": "stream",
     "text": [
      "0\n"
     ]
    }
   ],
   "source": [
    "print(10%2) #Modulus"
   ]
  },
  {
   "cell_type": "code",
   "execution_count": 5,
   "id": "58e3b0a8",
   "metadata": {},
   "outputs": [],
   "source": [
    "# Python Variables & Type"
   ]
  },
  {
   "cell_type": "code",
   "execution_count": 6,
   "id": "e111e22f",
   "metadata": {},
   "outputs": [
    {
     "name": "stdout",
     "output_type": "stream",
     "text": [
      "<class 'int'>\n"
     ]
    }
   ],
   "source": [
    "marks = 97\n",
    "print(type(marks)) #type function shows the variable type. "
   ]
  },
  {
   "cell_type": "code",
   "execution_count": 7,
   "id": "b78de9d4",
   "metadata": {},
   "outputs": [],
   "source": [
    "# variable type: int, float, string, boolean (True, False), list\n",
    "# You can assign value to string variables using either '' or \"\""
   ]
  },
  {
   "cell_type": "code",
   "execution_count": 8,
   "id": "66f14328",
   "metadata": {},
   "outputs": [
    {
     "name": "stdout",
     "output_type": "stream",
     "text": [
      "9\n",
      "AbCd\n"
     ]
    }
   ],
   "source": [
    "print(4+5)\n",
    "print('Ab'+'Cd')"
   ]
  },
  {
   "cell_type": "code",
   "execution_count": 9,
   "id": "08626dcf",
   "metadata": {},
   "outputs": [],
   "source": [
    "# List data type\n",
    "# collection of values, and can be of any data type"
   ]
  },
  {
   "cell_type": "code",
   "execution_count": 10,
   "id": "98630554",
   "metadata": {},
   "outputs": [],
   "source": [
    "list1 = ['baba', 77, 'bhai', 35]\n",
    "list2 = [['baba',77],['bhai', 35]] # list of lists"
   ]
  },
  {
   "cell_type": "code",
   "execution_count": 11,
   "id": "93ab1164",
   "metadata": {},
   "outputs": [],
   "source": [
    "# Subsetting list: extracting elements from an index\n",
    "# indexing starts from 0\n",
    "# indexing backwards starts from -1"
   ]
  },
  {
   "cell_type": "code",
   "execution_count": 12,
   "id": "f495a238",
   "metadata": {},
   "outputs": [
    {
     "name": "stdout",
     "output_type": "stream",
     "text": [
      "E\n",
      "E\n"
     ]
    }
   ],
   "source": [
    "list3 = ['A','B','C','D','E']\n",
    "print(list3[4]) # 5th element will have index 4\n",
    "print(list3[-1]) # last element can be accessed using negative index"
   ]
  },
  {
   "cell_type": "code",
   "execution_count": 13,
   "id": "0b0b4c01",
   "metadata": {},
   "outputs": [],
   "source": [
    "# Slicing list: extracting multiple elements from a list\n",
    "# Syntax: listname [start: stop] , stop is not inclusive\n",
    "# list[:3] - will extract elements from 0th to 2nd index\n",
    "# list[1:] - will extract elements from 1st to last index"
   ]
  },
  {
   "cell_type": "code",
   "execution_count": 14,
   "id": "24af0a8a",
   "metadata": {},
   "outputs": [
    {
     "name": "stdout",
     "output_type": "stream",
     "text": [
      "['B', 'C']\n",
      "['A', 'B', 'C', 'D']\n",
      "['B', 'C', 'D', 'E']\n"
     ]
    }
   ],
   "source": [
    "print(list3[1:3])\n",
    "print(list3[:4])\n",
    "print(list3[1:])"
   ]
  },
  {
   "cell_type": "code",
   "execution_count": 15,
   "id": "e02f3b20",
   "metadata": {},
   "outputs": [],
   "source": [
    "# Manipulating list"
   ]
  },
  {
   "cell_type": "code",
   "execution_count": 16,
   "id": "e5433855",
   "metadata": {},
   "outputs": [
    {
     "name": "stdout",
     "output_type": "stream",
     "text": [
      "['A', 'B', 'C', 'D', 'F']\n",
      "['A', 'C', 'D', 'F']\n",
      "['A', 'C', 'D', 'F', 'G', 'H']\n"
     ]
    }
   ],
   "source": [
    "list3[-1] = 'F'\n",
    "print(list3)\n",
    "del(list3[1]) # you can't delete multiple elements\n",
    "print(list3)\n",
    "list3 = list3 + ['G','H']\n",
    "print(list3)"
   ]
  },
  {
   "cell_type": "code",
   "execution_count": 17,
   "id": "d0c5a318",
   "metadata": {},
   "outputs": [],
   "source": [
    "# Copying list"
   ]
  },
  {
   "cell_type": "code",
   "execution_count": 18,
   "id": "86e9a1da",
   "metadata": {},
   "outputs": [
    {
     "name": "stdout",
     "output_type": "stream",
     "text": [
      "[1, 2, 3]\n",
      "[1, 'A', 3]\n",
      "[1, 'A', 3]\n",
      "[1, 2, 3]\n",
      "[1, 'A', 3]\n",
      "[1, 2, 3]\n"
     ]
    }
   ],
   "source": [
    "x = [1,2,3]\n",
    "y=x # reference based copies\n",
    "print(y)\n",
    "y[1] ='A'\n",
    "print(y)\n",
    "print(x)\n",
    "# to make sure, change in y does not impact x, copy list in the following manner:\n",
    "#y = x[:] OR y = list(x)\n",
    "x = [1,2,3]\n",
    "y=x [:] # explicit copies\n",
    "print(y)\n",
    "y[1] ='A'\n",
    "print(y)\n",
    "print(x)\n"
   ]
  },
  {
   "cell_type": "code",
   "execution_count": 19,
   "id": "3620b6a5",
   "metadata": {},
   "outputs": [],
   "source": [
    "# Functions: reusable code"
   ]
  },
  {
   "cell_type": "code",
   "execution_count": 20,
   "id": "39406a95",
   "metadata": {},
   "outputs": [
    {
     "name": "stdout",
     "output_type": "stream",
     "text": [
      "6\n",
      "2.59\n",
      "243\n",
      "6\n",
      "[6, 5, 4, 3, 2, 1]\n"
     ]
    }
   ],
   "source": [
    "list4 = [1,2,3,4,5,6]\n",
    "print(max(list4))\n",
    "print(round(2.5876,2))\n",
    "print(pow(3,5))\n",
    "print(len(list4))\n",
    "print(sorted(list4,reverse=True))"
   ]
  },
  {
   "cell_type": "code",
   "execution_count": 21,
   "id": "426d2bf9",
   "metadata": {},
   "outputs": [],
   "source": [
    "# Methods: are call functions, specific to an object/data type\n",
    "# called by dot operator, Object.method()"
   ]
  },
  {
   "cell_type": "code",
   "execution_count": 22,
   "id": "ab2ca48b",
   "metadata": {},
   "outputs": [
    {
     "name": "stdout",
     "output_type": "stream",
     "text": [
      "I am sad\n",
      "2\n",
      "I was sad\n",
      "I AM SAD\n"
     ]
    }
   ],
   "source": [
    "str1 = \"I am sad\"\n",
    "print(str1.capitalize())\n",
    "print(str1.count('a'))\n",
    "print(str1.replace('am','was'))\n",
    "print(str1.upper())"
   ]
  },
  {
   "cell_type": "code",
   "execution_count": 23,
   "id": "3f0228d6",
   "metadata": {},
   "outputs": [
    {
     "name": "stdout",
     "output_type": "stream",
     "text": [
      "3\n",
      "0\n",
      "['baba', 'bhai', 'me', 'Abhi']\n",
      "['Abhi', 'me', 'bhai', 'baba']\n"
     ]
    }
   ],
   "source": [
    "fam = ['maa','baba','bhai','me']\n",
    "print(fam.index('me'))\n",
    "fam.remove('maa')\n",
    "print(fam.count('maa'))\n",
    "fam.append('Abhi')\n",
    "print(fam)\n",
    "fam.reverse()\n",
    "print(fam)"
   ]
  },
  {
   "cell_type": "code",
   "execution_count": 24,
   "id": "6d34c920",
   "metadata": {},
   "outputs": [],
   "source": [
    "# Packages\n",
    "# import package as package_name\n",
    "# Ex: import numpy as np \n",
    "# from numpy import array\n",
    "# Numpy (arrays), Matplotlib & Seaborn (Viz), Scikit (Machine Learning)"
   ]
  },
  {
   "cell_type": "code",
   "execution_count": 25,
   "id": "ed22825b",
   "metadata": {},
   "outputs": [],
   "source": [
    "# Numpy offers calculation on entire arrays, unlike list\n",
    "# import numpy as np\n",
    "# contains only one type of data\n",
    "# numpy_array_name = np.array(list_name)"
   ]
  },
  {
   "cell_type": "code",
   "execution_count": 26,
   "id": "0f453dd1",
   "metadata": {},
   "outputs": [
    {
     "name": "stdout",
     "output_type": "stream",
     "text": [
      "[100 200 300 400 500]\n",
      "[ 200  400  600  800 1000]\n"
     ]
    }
   ],
   "source": [
    "list5 = [100,200,300,400,500]\n",
    "import numpy as np\n",
    "np_list5 = np.array(list5)\n",
    "print(np_list5)\n",
    "print(np_list5 + np_list5)"
   ]
  },
  {
   "cell_type": "code",
   "execution_count": 27,
   "id": "26dac84a",
   "metadata": {},
   "outputs": [
    {
     "name": "stdout",
     "output_type": "stream",
     "text": [
      "[1 2 1]\n",
      "['1' '2' 'x']\n"
     ]
    }
   ],
   "source": [
    "print(np.array([1,2,True])) # if array contains any other data type, they will be coerced to convert to create a homogenous list\n",
    "print(np.array([1,2,'x']))"
   ]
  },
  {
   "cell_type": "code",
   "execution_count": 28,
   "id": "f3ef1771",
   "metadata": {},
   "outputs": [
    {
     "name": "stdout",
     "output_type": "stream",
     "text": [
      "[False False  True  True  True]\n",
      "[300 400 500]\n"
     ]
    }
   ],
   "source": [
    "print(np_list5>250)\n",
    "print(np_list5[np_list5 > 250]) #filter using numpy"
   ]
  },
  {
   "cell_type": "code",
   "execution_count": 29,
   "id": "b113408a",
   "metadata": {},
   "outputs": [],
   "source": [
    "# you can create a 2 D array using list of lists"
   ]
  },
  {
   "cell_type": "code",
   "execution_count": 30,
   "id": "36807ae5",
   "metadata": {},
   "outputs": [
    {
     "name": "stdout",
     "output_type": "stream",
     "text": [
      "<class 'numpy.ndarray'>\n",
      "(4, 2)\n"
     ]
    }
   ],
   "source": [
    "baseball = [[180, 78.4],\n",
    "            [215, 102.7],\n",
    "            [210, 98.5],\n",
    "            [188, 75.2]]\n",
    "np_baseball = np.array(baseball)\n",
    "print(type(np_baseball))\n",
    "print(np_baseball.shape) # attribute to know the dimensions of array"
   ]
  },
  {
   "cell_type": "code",
   "execution_count": 31,
   "id": "22aa480e",
   "metadata": {},
   "outputs": [],
   "source": [
    "# You can access array elements using [], similar to lists"
   ]
  },
  {
   "cell_type": "code",
   "execution_count": 32,
   "id": "7828c151",
   "metadata": {},
   "outputs": [],
   "source": [
    "# Numpy summary statistics functions"
   ]
  },
  {
   "cell_type": "code",
   "execution_count": 33,
   "id": "a0321d0e",
   "metadata": {},
   "outputs": [],
   "source": [
    "# create a 2 D array using numpy "
   ]
  },
  {
   "cell_type": "code",
   "execution_count": 34,
   "id": "961514bb",
   "metadata": {},
   "outputs": [
    {
     "name": "stdout",
     "output_type": "stream",
     "text": [
      "9.627529975817751\n",
      "9.44208685160239\n",
      "1.966541865646001\n",
      "962.7529975817752\n",
      "[ 8.36481773  9.06857758  9.64623321  9.86945581 10.06112087 10.37991665\n",
      " 10.56021802 10.67378142 10.7496247  11.06104735]\n",
      "[[ 1.        -0.1163446]\n",
      " [-0.1163446  1.       ]]\n"
     ]
    }
   ],
   "source": [
    "np_x = np.random.normal(10,2,100) # generating 100 random numbers in a normal distribution with mean = 10 & std dev = \n",
    "np_y = np.random.normal(20,4,100)\n",
    "\n",
    "\n",
    "print(np.mean(np_x))\n",
    "print(np.median(np_x))\n",
    "print(np.std(np_x))\n",
    "print(np.sum(np_x))\n",
    "print(np.sort(np_x[0:10]))\n",
    "print(np.corrcoef((np_x,np_y)))"
   ]
  }
 ],
 "metadata": {
  "kernelspec": {
   "display_name": "Python 3 (ipykernel)",
   "language": "python",
   "name": "python3"
  },
  "language_info": {
   "codemirror_mode": {
    "name": "ipython",
    "version": 3
   },
   "file_extension": ".py",
   "mimetype": "text/x-python",
   "name": "python",
   "nbconvert_exporter": "python",
   "pygments_lexer": "ipython3",
   "version": "3.11.5"
  }
 },
 "nbformat": 4,
 "nbformat_minor": 5
}
