{
 "cells": [
  {
   "cell_type": "code",
   "execution_count": 1,
   "id": "3569a37e",
   "metadata": {},
   "outputs": [],
   "source": [
    "# Python is a general purpose programming language.\n",
    "# Open source\n",
    "# Easy to build packages\n",
    "# Python Script: List of python commands, executed sequentially, and saved as a file with .py extension."
   ]
  },
  {
   "cell_type": "code",
   "execution_count": 2,
   "id": "b538a704",
   "metadata": {},
   "outputs": [],
   "source": [
    "# 1. You can perform mathematical computations (+, -, *, /, **, %)"
   ]
  },
  {
   "cell_type": "code",
   "execution_count": 3,
   "id": "4f6bffb1",
   "metadata": {},
   "outputs": [
    {
     "name": "stdout",
     "output_type": "stream",
     "text": [
      "16\n"
     ]
    }
   ],
   "source": [
    "print(2**4) #Exponent"
   ]
  },
  {
   "cell_type": "code",
   "execution_count": 4,
   "id": "431e9c72",
   "metadata": {},
   "outputs": [
    {
     "name": "stdout",
     "output_type": "stream",
     "text": [
      "0\n"
     ]
    }
   ],
   "source": [
    "print(10%2) #Modulus"
   ]
  },
  {
   "cell_type": "code",
   "execution_count": 5,
   "id": "8acc0fe2",
   "metadata": {},
   "outputs": [],
   "source": [
    "# 2. Python Variables & Type"
   ]
  },
  {
   "cell_type": "code",
   "execution_count": 6,
   "id": "3fa12ead",
   "metadata": {},
   "outputs": [
    {
     "name": "stdout",
     "output_type": "stream",
     "text": [
      "<class 'int'>\n"
     ]
    }
   ],
   "source": [
    "marks = 97\n",
    "print(type(marks)) #type function shows the variable type. "
   ]
  },
  {
   "cell_type": "code",
   "execution_count": 7,
   "id": "c3a5ebea",
   "metadata": {},
   "outputs": [],
   "source": [
    "# variable type: int, float, string, boolean (True, False), list\n",
    "# You can assign value to string variables using either '' or \"\""
   ]
  },
  {
   "cell_type": "code",
   "execution_count": 8,
   "id": "178ae078",
   "metadata": {},
   "outputs": [
    {
     "name": "stdout",
     "output_type": "stream",
     "text": [
      "9\n",
      "AbCd\n"
     ]
    }
   ],
   "source": [
    "print(4+5)\n",
    "print('Ab'+'Cd')"
   ]
  },
  {
   "cell_type": "code",
   "execution_count": 9,
   "id": "3ef34f44",
   "metadata": {},
   "outputs": [],
   "source": [
    "# List data type\n",
    "# collection of values, and can be of any data type"
   ]
  },
  {
   "cell_type": "code",
   "execution_count": 10,
   "id": "93108843",
   "metadata": {},
   "outputs": [],
   "source": [
    "list1 = ['baba', 77, 'bhai', 35]\n",
    "list2 = [['baba',77],['bhai', 35]] # list of lists"
   ]
  }
 ],
 "metadata": {
  "kernelspec": {
   "display_name": "Python 3 (ipykernel)",
   "language": "python",
   "name": "python3"
  },
  "language_info": {
   "codemirror_mode": {
    "name": "ipython",
    "version": 3
   },
   "file_extension": ".py",
   "mimetype": "text/x-python",
   "name": "python",
   "nbconvert_exporter": "python",
   "pygments_lexer": "ipython3",
   "version": "3.11.5"
  }
 },
 "nbformat": 4,
 "nbformat_minor": 5
}
